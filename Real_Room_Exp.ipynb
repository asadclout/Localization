{
 "cells": [
  {
   "cell_type": "code",
   "execution_count": 64,
   "id": "initial_id",
   "metadata": {
    "collapsed": true,
    "ExecuteTime": {
     "end_time": "2023-11-15T10:25:23.069869546Z",
     "start_time": "2023-11-15T10:25:22.779810541Z"
    }
   },
   "outputs": [
    {
     "name": "stderr",
     "output_type": "stream",
     "text": [
      "/home/oc/PycharmProjects/triangulization/venv/lib/python3.10/site-packages/sklearn/cluster/_kmeans.py:1416: FutureWarning: The default value of `n_init` will change from 10 to 'auto' in 1.4. Set the value of `n_init` explicitly to suppress the warning\n",
      "  super()._check_params_vs_input(X, default_n_init=10)\n"
     ]
    },
    {
     "data": {
      "text/plain": "KMeans(n_clusters=10)",
      "text/html": "<style>#sk-container-id-8 {color: black;}#sk-container-id-8 pre{padding: 0;}#sk-container-id-8 div.sk-toggleable {background-color: white;}#sk-container-id-8 label.sk-toggleable__label {cursor: pointer;display: block;width: 100%;margin-bottom: 0;padding: 0.3em;box-sizing: border-box;text-align: center;}#sk-container-id-8 label.sk-toggleable__label-arrow:before {content: \"▸\";float: left;margin-right: 0.25em;color: #696969;}#sk-container-id-8 label.sk-toggleable__label-arrow:hover:before {color: black;}#sk-container-id-8 div.sk-estimator:hover label.sk-toggleable__label-arrow:before {color: black;}#sk-container-id-8 div.sk-toggleable__content {max-height: 0;max-width: 0;overflow: hidden;text-align: left;background-color: #f0f8ff;}#sk-container-id-8 div.sk-toggleable__content pre {margin: 0.2em;color: black;border-radius: 0.25em;background-color: #f0f8ff;}#sk-container-id-8 input.sk-toggleable__control:checked~div.sk-toggleable__content {max-height: 200px;max-width: 100%;overflow: auto;}#sk-container-id-8 input.sk-toggleable__control:checked~label.sk-toggleable__label-arrow:before {content: \"▾\";}#sk-container-id-8 div.sk-estimator input.sk-toggleable__control:checked~label.sk-toggleable__label {background-color: #d4ebff;}#sk-container-id-8 div.sk-label input.sk-toggleable__control:checked~label.sk-toggleable__label {background-color: #d4ebff;}#sk-container-id-8 input.sk-hidden--visually {border: 0;clip: rect(1px 1px 1px 1px);clip: rect(1px, 1px, 1px, 1px);height: 1px;margin: -1px;overflow: hidden;padding: 0;position: absolute;width: 1px;}#sk-container-id-8 div.sk-estimator {font-family: monospace;background-color: #f0f8ff;border: 1px dotted black;border-radius: 0.25em;box-sizing: border-box;margin-bottom: 0.5em;}#sk-container-id-8 div.sk-estimator:hover {background-color: #d4ebff;}#sk-container-id-8 div.sk-parallel-item::after {content: \"\";width: 100%;border-bottom: 1px solid gray;flex-grow: 1;}#sk-container-id-8 div.sk-label:hover label.sk-toggleable__label {background-color: #d4ebff;}#sk-container-id-8 div.sk-serial::before {content: \"\";position: absolute;border-left: 1px solid gray;box-sizing: border-box;top: 0;bottom: 0;left: 50%;z-index: 0;}#sk-container-id-8 div.sk-serial {display: flex;flex-direction: column;align-items: center;background-color: white;padding-right: 0.2em;padding-left: 0.2em;position: relative;}#sk-container-id-8 div.sk-item {position: relative;z-index: 1;}#sk-container-id-8 div.sk-parallel {display: flex;align-items: stretch;justify-content: center;background-color: white;position: relative;}#sk-container-id-8 div.sk-item::before, #sk-container-id-8 div.sk-parallel-item::before {content: \"\";position: absolute;border-left: 1px solid gray;box-sizing: border-box;top: 0;bottom: 0;left: 50%;z-index: -1;}#sk-container-id-8 div.sk-parallel-item {display: flex;flex-direction: column;z-index: 1;position: relative;background-color: white;}#sk-container-id-8 div.sk-parallel-item:first-child::after {align-self: flex-end;width: 50%;}#sk-container-id-8 div.sk-parallel-item:last-child::after {align-self: flex-start;width: 50%;}#sk-container-id-8 div.sk-parallel-item:only-child::after {width: 0;}#sk-container-id-8 div.sk-dashed-wrapped {border: 1px dashed gray;margin: 0 0.4em 0.5em 0.4em;box-sizing: border-box;padding-bottom: 0.4em;background-color: white;}#sk-container-id-8 div.sk-label label {font-family: monospace;font-weight: bold;display: inline-block;line-height: 1.2em;}#sk-container-id-8 div.sk-label-container {text-align: center;}#sk-container-id-8 div.sk-container {/* jupyter's `normalize.less` sets `[hidden] { display: none; }` but bootstrap.min.css set `[hidden] { display: none !important; }` so we also need the `!important` here to be able to override the default hidden behavior on the sphinx rendered scikit-learn.org. See: https://github.com/scikit-learn/scikit-learn/issues/21755 */display: inline-block !important;position: relative;}#sk-container-id-8 div.sk-text-repr-fallback {display: none;}</style><div id=\"sk-container-id-8\" class=\"sk-top-container\"><div class=\"sk-text-repr-fallback\"><pre>KMeans(n_clusters=10)</pre><b>In a Jupyter environment, please rerun this cell to show the HTML representation or trust the notebook. <br />On GitHub, the HTML representation is unable to render, please try loading this page with nbviewer.org.</b></div><div class=\"sk-container\" hidden><div class=\"sk-item\"><div class=\"sk-estimator sk-toggleable\"><input class=\"sk-toggleable__control sk-hidden--visually\" id=\"sk-estimator-id-8\" type=\"checkbox\" checked><label for=\"sk-estimator-id-8\" class=\"sk-toggleable__label sk-toggleable__label-arrow\">KMeans</label><div class=\"sk-toggleable__content\"><pre>KMeans(n_clusters=10)</pre></div></div></div></div></div>"
     },
     "execution_count": 64,
     "metadata": {},
     "output_type": "execute_result"
    }
   ],
   "source": [
    "from main import path_loss_coefficient\n",
    "import matplotlib.pyplot as plt\n",
    "from mpl_toolkits.mplot3d import Axes3D\n",
    "import math\n",
    "import random\n",
    "import numpy as np\n",
    "from itertools import combinations\n",
    "from sklearn.cluster import KMeans\n",
    "\n",
    "def generate_error_distances(path_loss_coefficient, original_signal_strength):\n",
    "    c = 3.0*(10**8)\n",
    "    f = 2.4 * (10**9) \n",
    "    d0 = 1\n",
    "    L_d0 = -30\n",
    "\n",
    "    # 10 ** ((RSSI - 20 * math.log10(f) - 20 * math.log10((4 * math.pi) / c)) / 20)\n",
    "    # d0 * 10 ** ((v - L_d0) / (10 * path_loss_coefficient))\n",
    "    # d0 * 10 ** ((v - L_d0 - random.gauss(0, 10)) / (10 * path_loss_coefficient))\n",
    "    # 10 ** ((RSSI - 20 * math.log10(f) - 20 * math.log10(4 * math.pi / c) - 20 * math.log10(d0)) / (10 * path_loss_coefficient))\n",
    "    error_distances = {k: d0 * 10 ** ((v - L_d0) / (10 * path_loss_coefficient)) for k , v in\n",
    "                       original_signal_strength.items()}\n",
    "    return error_distances\n",
    "\n",
    "# anchors = {\n",
    "#         0: np.array([1.955, 0, 2.120]),\n",
    "#         1: np.array([1.986, 3.327, 1.943]),\n",
    "#         2: np.array([3.733, 1.244, 2.070]),\n",
    "#         3: np.array([0, 1.930, 2.108]),\n",
    "# }\n",
    "anchors ={\n",
    "        0: np.array([4.392, 2.209, 2.133]),\n",
    "        1: np.array([6.883, 1.676, 2.209]),\n",
    "        2: np.array([2.717, 0, 2.057]),\n",
    "        3: np.array([0, 2.946, 1.651]),\n",
    "        4: np.array([2.349, 2.400, 1.727]),\n",
    "        5: np.array([5.626, 3.860, 1.676]),\n",
    "}\n",
    "\n",
    "all_combinations = list(combinations(anchors, 4))\n",
    "\n",
    "# original_signal_strength = {\n",
    "#         0: -52, \n",
    "#         1: -48,\n",
    "#         2: -47,\n",
    "#         3: -51\n",
    "# }\n",
    "original_signal_strength = {\n",
    "        0: -38, \n",
    "        1: -55,\n",
    "        2: -55,\n",
    "        3: -63,\n",
    "        4: -47,\n",
    "        5: -43\n",
    "}\n",
    "\n",
    "path_loss_coefficient = 7.164194723072568\n",
    "error_distances = generate_error_distances(path_loss_coefficient, original_signal_strength)\n",
    "# error_distances ={\n",
    "#     0:2.249,\n",
    "#     1:1.470,\n",
    "#     2:2.239,\n",
    "#     3:2.0366\n",
    "# }\n",
    "all_possible_coordinates = []\n",
    "\n",
    "for com in all_combinations:\n",
    "    A = np.array([[2 * (anchors[com[0]][0] - anchors[com[1]][0]),\n",
    "                   2 * (anchors[com[0]][1] - anchors[com[1]][1]),\n",
    "                   2 * (anchors[com[0]][2] - anchors[com[1]][2])],\n",
    "                  [2 * (anchors[com[0]][0] - anchors[com[2]][0]),\n",
    "                   2 * (anchors[com[0]][1] - anchors[com[2]][1]),\n",
    "                   2 * (anchors[com[0]][2] - anchors[com[2]][2])],\n",
    "                  [2 * (anchors[com[0]][0] - anchors[com[3]][0]),\n",
    "                   2 * (anchors[com[0]][1] - anchors[com[3]][1]),\n",
    "                   2 * (anchors[com[0]][2] - anchors[com[3]][2])]])\n",
    "\n",
    "    B = np.array([[(error_distances[com[1]]) ** 2 - (error_distances[com[0]]) ** 2 + (\n",
    "    anchors[com[0]][0]) ** 2 - (anchors[com[1]][0]) ** 2 + (anchors[com[0]][1]) ** 2 - (\n",
    "                   anchors[com[1]][1]) ** 2 + (anchors[com[0]][2]) ** 2 - (anchors[com[1]][2]) ** 2],\n",
    "                  [(error_distances[com[2]]) ** 2 - (error_distances[com[0]]) ** 2 + (\n",
    "                  anchors[com[0]][0]) ** 2 - (anchors[com[2]][0]) ** 2 + (anchors[com[0]][1]) ** 2 - (\n",
    "                   anchors[com[2]][1]) ** 2 + (anchors[com[0]][2]) ** 2 - (anchors[com[2]][2]) ** 2],\n",
    "                  [(error_distances[com[3]]) ** 2 - (error_distances[com[0]]) ** 2 + (\n",
    "                  anchors[com[0]][0]) ** 2 - (anchors[com[3]][0]) ** 2 + (anchors[com[0]][1]) ** 2 - (\n",
    "                   anchors[com[3]][1]) ** 2 + (anchors[com[0]][2]) ** 2 - (anchors[com[3]][2]) ** 2]    \n",
    "                  ])\n",
    "\n",
    "    X = np.dot(np.linalg.inv(A), B)\n",
    "\n",
    "    temp_list = []\n",
    "    for i in X.tolist():\n",
    "        temp_list.extend(i)\n",
    "    all_possible_coordinates.append(temp_list)\n",
    "\n",
    "kmeans = KMeans(n_clusters=10)\n",
    "kmeans.fit(all_possible_coordinates)"
   ]
  },
  {
   "cell_type": "code",
   "execution_count": 65,
   "outputs": [
    {
     "data": {
      "text/plain": "{0: 0.7732743004708095,\n 1: 0.44775704466222094,\n 2: 0.44775704466222094,\n 3: 0.3462390154920559,\n 4: 0.5790403798362409,\n 5: 0.6584792018420589}"
     },
     "execution_count": 65,
     "metadata": {},
     "output_type": "execute_result"
    }
   ],
   "source": [
    "error_distances"
   ],
   "metadata": {
    "collapsed": false,
    "ExecuteTime": {
     "end_time": "2023-11-15T10:25:23.070818050Z",
     "start_time": "2023-11-15T10:25:22.950618694Z"
    }
   },
   "id": "ffbdb132b9ba7fef"
  },
  {
   "cell_type": "code",
   "execution_count": 66,
   "outputs": [
    {
     "data": {
      "text/plain": "[[6.7373781519593345, 0.17520999244159186, -43.65832452891246],\n [5.678313383589821, -0.13996026685436994, -11.156422031495197],\n [5.584882792592438, -0.16776455651660982, -8.289107350120103],\n [62.73200556357311, 241.79548070388947, -184.43480601744068],\n [4.828053925548365, -8.063641800787062, -38.858079236822284],\n [5.5253922076745186, -0.7884205279733415, -10.691983478487225],\n [0.7026850162763459, 2.7250892803717846, 15.228881460971861],\n [3.1039289321475847, 1.7104756142445015, -8.202723415464419],\n [5.134651154200343, 0.17308948468832958, -8.273430806895794],\n [2.0255739036250775, 7.823703311894747, 10.970687577147789],\n [0.6899019718835743, 7.027574116572999, 46.53393530103084],\n [2.433368562268851, 5.052061099268624, 20.53181688956413],\n [4.84646547126488, 1.0552696412842477, -1.5362044215914032],\n [1.5076808383525764, 10.122057079236313, 43.489529252063555],\n [0.6696583815597673, 13.841110682846846, 96.10950318071691]]"
     },
     "execution_count": 66,
     "metadata": {},
     "output_type": "execute_result"
    }
   ],
   "source": [
    "all_possible_coordinates"
   ],
   "metadata": {
    "collapsed": false,
    "ExecuteTime": {
     "end_time": "2023-11-15T10:25:23.072972297Z",
     "start_time": "2023-11-15T10:25:22.950942219Z"
    }
   },
   "id": "e2af1430b911ecb3"
  },
  {
   "cell_type": "markdown",
   "source": [],
   "metadata": {
    "collapsed": false
   },
   "id": "85f259151ab61a74"
  },
  {
   "cell_type": "code",
   "execution_count": 67,
   "outputs": [
    {
     "name": "stderr",
     "output_type": "stream",
     "text": [
      "No artists with labels found to put in legend.  Note that artists whose label start with an underscore are ignored when legend() is called with no argument.\n"
     ]
    },
    {
     "data": {
      "text/plain": "<Figure size 640x480 with 1 Axes>",
      "image/png": "[encoded data removed]"
     },
     "metadata": {},
     "output_type": "display_data"
    }
   ],
   "source": [
    "import numpy as np\n",
    "from sklearn.linear_model import LinearRegression\n",
    "import matplotlib.pyplot as plt\n",
    "from scipy.stats import pearsonr\n",
    "\n",
    "def euclidean_distance(wifi_location, points):\n",
    "    original_distances = [np.linalg.norm(v[0] - wifi_location) for k , v in points.items()]\n",
    "\n",
    "    return original_distances\n",
    "\n",
    "rssi_values = np.array([-51, -55, -57, -56,-55, -58, -60, -52, -50])\n",
    "points = {\n",
    "        0: np.array([5.803, 0.711, 1.219]),\n",
    "        1: np.array([2.463, 2.209, 1.219]),\n",
    "        2: np.array([3.111, 3.162, 1.219]),\n",
    "        3: np.array([1.981, 0.863, 1.219]),\n",
    "        4: np.array([0.571, 3.81, 1.219]),\n",
    "        5: np.array([0.685, 1.473, 1.219]),\n",
    "        6: np.array([1.892, 2.006, 1.219]),\n",
    "        7: np.array([2.387, 3.784, 1.219]), \n",
    "        8: np.array([6.210, 2.997, 1.219]),\n",
    "}\n",
    "wifi_loca = np.array([6.883, 1.676, 2.209])\n",
    "distances = euclidean_distance(wifi_loca,points)\n",
    "log_distance = [np.log10(i) for i in distances]\n",
    "# log_distance = np.log10(np.array(log_distance))\n",
    "x = np.array(log_distance).reshape(-1,1)\n",
    "regressor = LinearRegression()\n",
    "regressor.fit(x,rssi_values)\n",
    "plt.scatter(log_distance,rssi_values, color='blue')\n",
    "plt.xlabel('Log of Distance')\n",
    "plt.ylabel('RSSI Values')\n",
    "plt.title('Scatter Plot of Log Distance vs. RSSI')\n",
    "plt.legend()\n",
    "\n",
    "# Show the plot\n",
    "plt.show()\n",
    "correlation_coefficient, _ = pearsonr(log_distance,rssi_values)"
   ],
   "metadata": {
    "collapsed": false,
    "ExecuteTime": {
     "end_time": "2023-11-15T10:25:23.301391261Z",
     "start_time": "2023-11-15T10:25:22.994588463Z"
    }
   },
   "id": "e667cde6b264ee04"
  },
  {
   "cell_type": "code",
   "execution_count": 68,
   "outputs": [
    {
     "data": {
      "text/plain": "7.164194723072568"
     },
     "execution_count": 68,
     "metadata": {},
     "output_type": "execute_result"
    }
   ],
   "source": [
    "regressor.coef_[0]"
   ],
   "metadata": {
    "collapsed": false,
    "ExecuteTime": {
     "end_time": "2023-11-15T10:25:23.303022240Z",
     "start_time": "2023-11-15T10:25:23.272592706Z"
    }
   },
   "id": "e05e9b28643de4a7"
  },
  {
   "cell_type": "code",
   "execution_count": 69,
   "outputs": [],
   "source": [
    "labels = kmeans.labels_"
   ],
   "metadata": {
    "collapsed": false,
    "ExecuteTime": {
     "end_time": "2023-11-15T10:25:23.387322067Z",
     "start_time": "2023-11-15T10:25:23.289437065Z"
    }
   },
   "id": "90ee298115bad09a"
  },
  {
   "cell_type": "code",
   "execution_count": 70,
   "outputs": [
    {
     "data": {
      "text/plain": "[6, 0, 0, 1, 5, 0, 3, 0, 0, 8, 2, 9, 7, 2, 4]"
     },
     "execution_count": 70,
     "metadata": {},
     "output_type": "execute_result"
    }
   ],
   "source": [
    "list(labels)"
   ],
   "metadata": {
    "collapsed": false,
    "ExecuteTime": {
     "end_time": "2023-11-15T10:25:23.417868208Z",
     "start_time": "2023-11-15T10:25:23.330840165Z"
    }
   },
   "id": "8716af8e580ecb01"
  },
  {
   "cell_type": "code",
   "execution_count": 71,
   "outputs": [
    {
     "data": {
      "text/plain": "array([ 2.43336856,  5.0520611 , 20.53181689])"
     },
     "execution_count": 71,
     "metadata": {},
     "output_type": "execute_result"
    }
   ],
   "source": [
    "kmeans.cluster_centers_[max(list(labels))]"
   ],
   "metadata": {
    "collapsed": false,
    "ExecuteTime": {
     "end_time": "2023-11-15T10:25:23.419978652Z",
     "start_time": "2023-11-15T10:25:23.331302918Z"
    }
   },
   "id": "240b96dd31a4464f"
  },
  {
   "cell_type": "code",
   "execution_count": 72,
   "outputs": [
    {
     "data": {
      "text/plain": "<Figure size 640x480 with 1 Axes>",
      "image/png": "[encoded data removed]"
     },
     "metadata": {},
     "output_type": "display_data"
    },
    {
     "name": "stdout",
     "output_type": "stream",
     "text": [
      "Slope (Coefficient): 1.0\n",
      "Intercept: 1.0\n"
     ]
    }
   ],
   "source": [
    "import numpy as np\n",
    "import matplotlib.pyplot as plt\n",
    "from sklearn.linear_model import LinearRegression\n",
    "\n",
    "# Sample data\n",
    "X = np.array([1, 2, 3, 4, 5]).reshape(-1, 1)  # Input features (independent variable)\n",
    "y = np.array([2, 3, 4, 5, 6])  # Target variable (dependent variable)\n",
    "\n",
    "# Create a linear regression model\n",
    "model = LinearRegression()\n",
    "\n",
    "# Fit the model to the data\n",
    "model.fit(X, y)\n",
    "\n",
    "# Make predictions\n",
    "predictions = model.predict(X)\n",
    "\n",
    "# Plot the data and regression line\n",
    "plt.scatter(X, y, label='Data', color='blue')\n",
    "plt.plot(X, predictions, label='Linear Regression', color='red')\n",
    "plt.xlabel('X')\n",
    "plt.ylabel('y')\n",
    "plt.title('Linear Regression Example')\n",
    "plt.legend()\n",
    "plt.show()\n",
    "\n",
    "# Print the slope (coefficients) and intercept of the regression line\n",
    "print(\"Slope (Coefficient):\", model.coef_[0])\n",
    "print(\"Intercept:\", model.intercept_)\n"
   ],
   "metadata": {
    "collapsed": false,
    "ExecuteTime": {
     "end_time": "2023-11-15T10:25:23.630130127Z",
     "start_time": "2023-11-15T10:25:23.331604704Z"
    }
   },
   "id": "638c3e8a99bf4ff3"
  },
  {
   "cell_type": "code",
   "execution_count": 72,
   "outputs": [],
   "source": [],
   "metadata": {
    "collapsed": false,
    "ExecuteTime": {
     "end_time": "2023-11-15T10:25:23.702012965Z",
     "start_time": "2023-11-15T10:25:23.625415659Z"
    }
   },
   "id": "de0a8fb591e9bf54"
  }
 ],
 "metadata": {
  "kernelspec": {
   "display_name": "Python 3",
   "language": "python",
   "name": "python3"
  },
  "language_info": {
   "codemirror_mode": {
    "name": "ipython",
    "version": 2
   },
   "file_extension": ".py",
   "mimetype": "text/x-python",
   "name": "python",
   "nbconvert_exporter": "python",
   "pygments_lexer": "ipython2",
   "version": "2.7.6"
  }
 },
 "nbformat": 4,
 "nbformat_minor": 5
}
